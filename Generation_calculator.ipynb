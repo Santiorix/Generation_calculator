{
 "cells": [
  {
   "cell_type": "code",
   "execution_count": 2,
   "id": "0beb4338",
   "metadata": {},
   "outputs": [],
   "source": [
    "birth_day = 1950\n",
    "def generation_calculator(birth_day):\n",
    "    return\n",
    "    if birth_day < 1949:\n",
    "        print (name + is \"silent generation\")\n",
    "    elif birth_day < 1969:\n",
    "        print (name + is \"baby boomer\")\n",
    "    else:\n",
    "        print (\"Prueba superada\")"
   ]
  },
  {
   "cell_type": "code",
   "execution_count": 12,
   "id": "ef299f3c",
   "metadata": {},
   "outputs": [
    {
     "ename": "NameError",
     "evalue": "name 'birth_day' is not defined",
     "output_type": "error",
     "traceback": [
      "\u001b[1;31m---------------------------------------------------------------------------\u001b[0m",
      "\u001b[1;31mNameError\u001b[0m                                 Traceback (most recent call last)",
      "\u001b[1;32m<ipython-input-12-7964c2dcd22b>\u001b[0m in \u001b[0;36m<module>\u001b[1;34m\u001b[0m\n\u001b[1;32m----> 1\u001b[1;33m \u001b[0mgeneration_calculator\u001b[0m \u001b[1;33m(\u001b[0m\u001b[0mbirth_day\u001b[0m\u001b[1;33m)\u001b[0m\u001b[1;33m\u001b[0m\u001b[1;33m\u001b[0m\u001b[0m\n\u001b[0m",
      "\u001b[1;31mNameError\u001b[0m: name 'birth_day' is not defined"
     ]
    }
   ],
   "source": [
    "generation_calculator (birth_day)"
   ]
  },
  {
   "cell_type": "code",
   "execution_count": null,
   "id": "e180d043",
   "metadata": {},
   "outputs": [],
   "source": [
    "name1 = \"Jonh\"\n",
    "birth_year1 = 1989\n",
    "\n",
    "name2 = \"Mari\"\n",
    "birth_year2 = 1995\n",
    "\n",
    "name3 = \"Mich\"\n",
    "birth_year3 = 1960"
   ]
  },
  {
   "cell_type": "code",
   "execution_count": 32,
   "id": "c24f434d",
   "metadata": {},
   "outputs": [
    {
     "name": "stdout",
     "output_type": "stream",
     "text": [
      "Generation: \n",
      "1995\n"
     ]
    },
    {
     "data": {
      "text/plain": [
       "'Mari is Z generation'"
      ]
     },
     "execution_count": 32,
     "metadata": {},
     "output_type": "execute_result"
    }
   ],
   "source": [
    "def generation_calculator (name, birth_year):\n",
    "    generation = birth_year\n",
    "    print (\"Generation: \")\n",
    "    print (generation)\n",
    "    if generation < 1949:\n",
    "        return name + \" is silent generation\"\n",
    "    if generation < 1969:\n",
    "        return name + \" is baby boomer\"\n",
    "    if generation < 1981:\n",
    "        return name + \" is X generation\"\n",
    "    if generation < 1994:\n",
    "        return name + \" is millennial\"\n",
    "    else:\n",
    "        return name + \" is Z generation\"\n",
    "generation_calculator (\"Mari\",1995)"
   ]
  },
  {
   "cell_type": "code",
   "execution_count": 22,
   "id": "12efb189",
   "metadata": {},
   "outputs": [
    {
     "ename": "NameError",
     "evalue": "name 'name1' is not defined",
     "output_type": "error",
     "traceback": [
      "\u001b[1;31m---------------------------------------------------------------------------\u001b[0m",
      "\u001b[1;31mNameError\u001b[0m                                 Traceback (most recent call last)",
      "\u001b[1;32m<ipython-input-22-7d81342741f7>\u001b[0m in \u001b[0;36m<module>\u001b[1;34m\u001b[0m\n\u001b[1;32m----> 1\u001b[1;33m \u001b[0mresult1\u001b[0m \u001b[1;33m=\u001b[0m \u001b[0mgeneration_calculator\u001b[0m \u001b[1;33m(\u001b[0m\u001b[0mname1\u001b[0m\u001b[1;33m,\u001b[0m \u001b[0mbirth_year1\u001b[0m\u001b[1;33m)\u001b[0m\u001b[1;33m\u001b[0m\u001b[1;33m\u001b[0m\u001b[0m\n\u001b[0m\u001b[0;32m      2\u001b[0m \u001b[0mresult2\u001b[0m \u001b[1;33m=\u001b[0m \u001b[0mgeneration_calculator\u001b[0m \u001b[1;33m(\u001b[0m\u001b[0mname2\u001b[0m\u001b[1;33m,\u001b[0m \u001b[0mbirth_year2\u001b[0m\u001b[1;33m)\u001b[0m\u001b[1;33m\u001b[0m\u001b[1;33m\u001b[0m\u001b[0m\n\u001b[0;32m      3\u001b[0m \u001b[0mresult3\u001b[0m \u001b[1;33m=\u001b[0m \u001b[0mgeneration_calculator\u001b[0m \u001b[1;33m(\u001b[0m\u001b[0mname3\u001b[0m\u001b[1;33m,\u001b[0m \u001b[0mbirth_year3\u001b[0m\u001b[1;33m)\u001b[0m\u001b[1;33m\u001b[0m\u001b[1;33m\u001b[0m\u001b[0m\n\u001b[0;32m      4\u001b[0m \u001b[0mprint\u001b[0m \u001b[1;33m(\u001b[0m\u001b[0mresult1\u001b[0m\u001b[1;33m)\u001b[0m\u001b[1;33m\u001b[0m\u001b[1;33m\u001b[0m\u001b[0m\n",
      "\u001b[1;31mNameError\u001b[0m: name 'name1' is not defined"
     ]
    }
   ],
   "source": [
    "        result1 = generation_calculator (name1, birth_year1)\n",
    "        result2 = generation_calculator (name2, birth_year2)\n",
    "        result3 = generation_calculator (name3, birth_year3)\n",
    "        print (result1)"
   ]
  },
  {
   "cell_type": "code",
   "execution_count": 31,
   "id": "e40d5cab",
   "metadata": {},
   "outputs": [
    {
     "name": "stdout",
     "output_type": "stream",
     "text": [
      "HelloPaulgood morning\n"
     ]
    }
   ],
   "source": [
    "def greet (name):\n",
    "    print (\"Hello\" + name+ \"good morning\")\n",
    "\n",
    "greet (\"Paul\")\n"
   ]
  },
  {
   "cell_type": "code",
   "execution_count": 25,
   "id": "277bcfe1",
   "metadata": {},
   "outputs": [
    {
     "name": "stdout",
     "output_type": "stream",
     "text": [
      "Hello, Paul. Good morning!\n"
     ]
    }
   ],
   "source": [
    "def greet(name):\n",
    "    \"\"\"\n",
    "    This function greets to\n",
    "    the person passed in as\n",
    "    a parameter\n",
    "    \"\"\"\n",
    "    print(\"Hello, \" + name + \". Good morning!\")\n",
    "\n",
    "greet('Paul')"
   ]
  },
  {
   "cell_type": "code",
   "execution_count": 33,
   "id": "52f2c56a",
   "metadata": {},
   "outputs": [
    {
     "name": "stdout",
     "output_type": "stream",
     "text": [
      "Generation: \n",
      "1994\n"
     ]
    },
    {
     "data": {
      "text/plain": [
       "'Santi is Z generation'"
      ]
     },
     "execution_count": 33,
     "metadata": {},
     "output_type": "execute_result"
    }
   ],
   "source": [
    "def generation_calculator (name, birth_year):\n",
    "    generation = birth_year\n",
    "    print (\"Generation: \")\n",
    "    print (generation)\n",
    "    if generation < 1949:\n",
    "        return name + \" is silent generation\"\n",
    "    if generation < 1969:\n",
    "        return name + \" is baby boomer\"\n",
    "    if generation < 1981:\n",
    "        return name + \" is X generation\"\n",
    "    if generation < 1994:\n",
    "        return name + \" is millennial\"\n",
    "    else:\n",
    "        return name + \" is Z generation\"\n",
    "\n",
    "generation_calculator (\"Santi\", 1994)"
   ]
  },
  {
   "cell_type": "code",
   "execution_count": 34,
   "id": "beb3db69",
   "metadata": {},
   "outputs": [
    {
     "name": "stdout",
     "output_type": "stream",
     "text": [
      "Generation: \n",
      "1993\n"
     ]
    },
    {
     "data": {
      "text/plain": [
       "'Cris is millennial'"
      ]
     },
     "execution_count": 34,
     "metadata": {},
     "output_type": "execute_result"
    }
   ],
   "source": [
    "generation_calculator (\"Cris\", 1993)"
   ]
  },
  {
   "cell_type": "code",
   "execution_count": 35,
   "id": "1f1f88b5",
   "metadata": {},
   "outputs": [
    {
     "name": "stdout",
     "output_type": "stream",
     "text": [
      "Generation: \n",
      "1956\n"
     ]
    },
    {
     "data": {
      "text/plain": [
       "'Borja is baby boomer'"
      ]
     },
     "execution_count": 35,
     "metadata": {},
     "output_type": "execute_result"
    }
   ],
   "source": [
    "generation_calculator (\"Borja\", 1956)"
   ]
  },
  {
   "cell_type": "code",
   "execution_count": 36,
   "id": "1aa24777",
   "metadata": {},
   "outputs": [
    {
     "name": "stdout",
     "output_type": "stream",
     "text": [
      "Generation: \n",
      "1989\n"
     ]
    },
    {
     "data": {
      "text/plain": [
       "'John is millennial'"
      ]
     },
     "execution_count": 36,
     "metadata": {},
     "output_type": "execute_result"
    }
   ],
   "source": [
    "generation_calculator (\"John\", 1989)"
   ]
  },
  {
   "cell_type": "code",
   "execution_count": 37,
   "id": "a61b724e",
   "metadata": {},
   "outputs": [
    {
     "name": "stdout",
     "output_type": "stream",
     "text": [
      "Generation: \n",
      "1995\n"
     ]
    },
    {
     "data": {
      "text/plain": [
       "'Meri is Z generation'"
      ]
     },
     "execution_count": 37,
     "metadata": {},
     "output_type": "execute_result"
    }
   ],
   "source": [
    "generation_calculator (\"Meri\", 1995)"
   ]
  },
  {
   "cell_type": "code",
   "execution_count": 38,
   "id": "0636421d",
   "metadata": {},
   "outputs": [
    {
     "name": "stdout",
     "output_type": "stream",
     "text": [
      "Generation: \n",
      "1960\n"
     ]
    },
    {
     "data": {
      "text/plain": [
       "'Mich is baby boomer'"
      ]
     },
     "execution_count": 38,
     "metadata": {},
     "output_type": "execute_result"
    }
   ],
   "source": [
    "generation_calculator (\"Mich\", 1960)"
   ]
  },
  {
   "cell_type": "code",
   "execution_count": null,
   "id": "a07d1285",
   "metadata": {},
   "outputs": [],
   "source": []
  }
 ],
 "metadata": {
  "kernelspec": {
   "display_name": "Python 3",
   "language": "python",
   "name": "python3"
  },
  "language_info": {
   "codemirror_mode": {
    "name": "ipython",
    "version": 3
   },
   "file_extension": ".py",
   "mimetype": "text/x-python",
   "name": "python",
   "nbconvert_exporter": "python",
   "pygments_lexer": "ipython3",
   "version": "3.8.8"
  }
 },
 "nbformat": 4,
 "nbformat_minor": 5
}
